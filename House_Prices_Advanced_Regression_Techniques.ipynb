{
  "nbformat": 4,
  "nbformat_minor": 0,
  "metadata": {
    "colab": {
      "name": "House Prices - Advanced Regression Techniques.ipynb",
      "provenance": []
    },
    "kernelspec": {
      "name": "python3",
      "display_name": "Python 3"
    },
    "language_info": {
      "name": "python"
    }
  },
  "cells": [
    {
      "cell_type": "code",
      "execution_count": 1,
      "metadata": {
        "id": "c1MK48VV8lj7"
      },
      "outputs": [],
      "source": [
        "import pandas as pd\n",
        "import matplotlib.pyplot as plt\n",
        "import numpy as np\n",
        "import seaborn as sns"
      ]
    },
    {
      "cell_type": "code",
      "source": [
        "import sklearn\n",
        "from sklearn.pipeline import Pipeline, FeatureUnion\n",
        "from sklearn.impute import SimpleImputer, MissingIndicator\n",
        "from sklearn.preprocessing import FunctionTransformer, LabelEncoder, Normalizer, StandardScaler, OneHotEncoder\n",
        "from sklearn.base import BaseEstimator, TransformerMixin, ClassifierMixin, clone\n",
        "import sklearn_pandas\n",
        "from sklearn.metrics import accuracy_score\n",
        "from sklearn.model_selection import cross_val_score,train_test_split\n",
        "from scipy import stats\n",
        "from sklearn.linear_model import LinearRegression\n",
        "from scipy.special import boxcox1p\n",
        "import csv\n",
        "\n",
        "import warnings\n",
        "warnings.filterwarnings('ignore')"
      ],
      "metadata": {
        "id": "zxa68HUb85jq"
      },
      "execution_count": 2,
      "outputs": []
    },
    {
      "cell_type": "code",
      "source": [
        "import sys\n",
        "import scipy\n",
        "\n",
        "print('Environment specification:\\n')\n",
        "print('python', '%s.%s.%s' % sys.version_info[:3])\n",
        "\n",
        "for mod in np, scipy, sns, sklearn, pd:\n",
        "    print(mod.__name__, mod.__version__)"
      ],
      "metadata": {
        "colab": {
          "base_uri": "https://localhost:8080/"
        },
        "id": "S0ikMh3l86ah",
        "outputId": "9de6f6b6-8e3b-4282-9ac1-3fe4f9639b4e"
      },
      "execution_count": 3,
      "outputs": [
        {
          "output_type": "stream",
          "name": "stdout",
          "text": [
            "Environment specification:\n",
            "\n",
            "python 3.7.13\n",
            "numpy 1.21.6\n",
            "scipy 1.7.3\n",
            "seaborn 0.11.2\n",
            "sklearn 1.0.2\n",
            "pandas 1.3.5\n"
          ]
        }
      ]
    },
    {
      "cell_type": "code",
      "source": [
        "# kaggle train data\n",
        "data_df = pd.read_csv(\"/content/train.csv\")\n",
        "# kaggle test data\n",
        "test_df = pd.read_csv(\"/content/test.csv\")"
      ],
      "metadata": {
        "id": "D1UkOCeR8-lE"
      },
      "execution_count": 4,
      "outputs": []
    },
    {
      "cell_type": "code",
      "source": [
        "all_data = pd.concat((data_df.loc[:,:], test_df.loc[:, :]))\n",
        "all_data.head()"
      ],
      "metadata": {
        "colab": {
          "base_uri": "https://localhost:8080/",
          "height": 299
        },
        "id": "gVoEo6ZZ914H",
        "outputId": "d6ca7ab0-88b4-4f5c-d202-af9c8de6123c"
      },
      "execution_count": 5,
      "outputs": [
        {
          "output_type": "execute_result",
          "data": {
            "text/plain": [
              "   Id  MSSubClass MSZoning  LotFrontage  LotArea Street Alley LotShape  \\\n",
              "0   1          60       RL         65.0     8450   Pave   NaN      Reg   \n",
              "1   2          20       RL         80.0     9600   Pave   NaN      Reg   \n",
              "2   3          60       RL         68.0    11250   Pave   NaN      IR1   \n",
              "3   4          70       RL         60.0     9550   Pave   NaN      IR1   \n",
              "4   5          60       RL         84.0    14260   Pave   NaN      IR1   \n",
              "\n",
              "  LandContour Utilities  ... PoolArea PoolQC Fence MiscFeature MiscVal MoSold  \\\n",
              "0         Lvl    AllPub  ...        0    NaN   NaN         NaN       0      2   \n",
              "1         Lvl    AllPub  ...        0    NaN   NaN         NaN       0      5   \n",
              "2         Lvl    AllPub  ...        0    NaN   NaN         NaN       0      9   \n",
              "3         Lvl    AllPub  ...        0    NaN   NaN         NaN       0      2   \n",
              "4         Lvl    AllPub  ...        0    NaN   NaN         NaN       0     12   \n",
              "\n",
              "  YrSold  SaleType  SaleCondition  SalePrice  \n",
              "0   2008        WD         Normal   208500.0  \n",
              "1   2007        WD         Normal   181500.0  \n",
              "2   2008        WD         Normal   223500.0  \n",
              "3   2006        WD        Abnorml   140000.0  \n",
              "4   2008        WD         Normal   250000.0  \n",
              "\n",
              "[5 rows x 81 columns]"
            ],
            "text/html": [
              "\n",
              "  <div id=\"df-7c9d8dc1-895b-47f3-ac54-06bbde9a3b90\">\n",
              "    <div class=\"colab-df-container\">\n",
              "      <div>\n",
              "<style scoped>\n",
              "    .dataframe tbody tr th:only-of-type {\n",
              "        vertical-align: middle;\n",
              "    }\n",
              "\n",
              "    .dataframe tbody tr th {\n",
              "        vertical-align: top;\n",
              "    }\n",
              "\n",
              "    .dataframe thead th {\n",
              "        text-align: right;\n",
              "    }\n",
              "</style>\n",
              "<table border=\"1\" class=\"dataframe\">\n",
              "  <thead>\n",
              "    <tr style=\"text-align: right;\">\n",
              "      <th></th>\n",
              "      <th>Id</th>\n",
              "      <th>MSSubClass</th>\n",
              "      <th>MSZoning</th>\n",
              "      <th>LotFrontage</th>\n",
              "      <th>LotArea</th>\n",
              "      <th>Street</th>\n",
              "      <th>Alley</th>\n",
              "      <th>LotShape</th>\n",
              "      <th>LandContour</th>\n",
              "      <th>Utilities</th>\n",
              "      <th>...</th>\n",
              "      <th>PoolArea</th>\n",
              "      <th>PoolQC</th>\n",
              "      <th>Fence</th>\n",
              "      <th>MiscFeature</th>\n",
              "      <th>MiscVal</th>\n",
              "      <th>MoSold</th>\n",
              "      <th>YrSold</th>\n",
              "      <th>SaleType</th>\n",
              "      <th>SaleCondition</th>\n",
              "      <th>SalePrice</th>\n",
              "    </tr>\n",
              "  </thead>\n",
              "  <tbody>\n",
              "    <tr>\n",
              "      <th>0</th>\n",
              "      <td>1</td>\n",
              "      <td>60</td>\n",
              "      <td>RL</td>\n",
              "      <td>65.0</td>\n",
              "      <td>8450</td>\n",
              "      <td>Pave</td>\n",
              "      <td>NaN</td>\n",
              "      <td>Reg</td>\n",
              "      <td>Lvl</td>\n",
              "      <td>AllPub</td>\n",
              "      <td>...</td>\n",
              "      <td>0</td>\n",
              "      <td>NaN</td>\n",
              "      <td>NaN</td>\n",
              "      <td>NaN</td>\n",
              "      <td>0</td>\n",
              "      <td>2</td>\n",
              "      <td>2008</td>\n",
              "      <td>WD</td>\n",
              "      <td>Normal</td>\n",
              "      <td>208500.0</td>\n",
              "    </tr>\n",
              "    <tr>\n",
              "      <th>1</th>\n",
              "      <td>2</td>\n",
              "      <td>20</td>\n",
              "      <td>RL</td>\n",
              "      <td>80.0</td>\n",
              "      <td>9600</td>\n",
              "      <td>Pave</td>\n",
              "      <td>NaN</td>\n",
              "      <td>Reg</td>\n",
              "      <td>Lvl</td>\n",
              "      <td>AllPub</td>\n",
              "      <td>...</td>\n",
              "      <td>0</td>\n",
              "      <td>NaN</td>\n",
              "      <td>NaN</td>\n",
              "      <td>NaN</td>\n",
              "      <td>0</td>\n",
              "      <td>5</td>\n",
              "      <td>2007</td>\n",
              "      <td>WD</td>\n",
              "      <td>Normal</td>\n",
              "      <td>181500.0</td>\n",
              "    </tr>\n",
              "    <tr>\n",
              "      <th>2</th>\n",
              "      <td>3</td>\n",
              "      <td>60</td>\n",
              "      <td>RL</td>\n",
              "      <td>68.0</td>\n",
              "      <td>11250</td>\n",
              "      <td>Pave</td>\n",
              "      <td>NaN</td>\n",
              "      <td>IR1</td>\n",
              "      <td>Lvl</td>\n",
              "      <td>AllPub</td>\n",
              "      <td>...</td>\n",
              "      <td>0</td>\n",
              "      <td>NaN</td>\n",
              "      <td>NaN</td>\n",
              "      <td>NaN</td>\n",
              "      <td>0</td>\n",
              "      <td>9</td>\n",
              "      <td>2008</td>\n",
              "      <td>WD</td>\n",
              "      <td>Normal</td>\n",
              "      <td>223500.0</td>\n",
              "    </tr>\n",
              "    <tr>\n",
              "      <th>3</th>\n",
              "      <td>4</td>\n",
              "      <td>70</td>\n",
              "      <td>RL</td>\n",
              "      <td>60.0</td>\n",
              "      <td>9550</td>\n",
              "      <td>Pave</td>\n",
              "      <td>NaN</td>\n",
              "      <td>IR1</td>\n",
              "      <td>Lvl</td>\n",
              "      <td>AllPub</td>\n",
              "      <td>...</td>\n",
              "      <td>0</td>\n",
              "      <td>NaN</td>\n",
              "      <td>NaN</td>\n",
              "      <td>NaN</td>\n",
              "      <td>0</td>\n",
              "      <td>2</td>\n",
              "      <td>2006</td>\n",
              "      <td>WD</td>\n",
              "      <td>Abnorml</td>\n",
              "      <td>140000.0</td>\n",
              "    </tr>\n",
              "    <tr>\n",
              "      <th>4</th>\n",
              "      <td>5</td>\n",
              "      <td>60</td>\n",
              "      <td>RL</td>\n",
              "      <td>84.0</td>\n",
              "      <td>14260</td>\n",
              "      <td>Pave</td>\n",
              "      <td>NaN</td>\n",
              "      <td>IR1</td>\n",
              "      <td>Lvl</td>\n",
              "      <td>AllPub</td>\n",
              "      <td>...</td>\n",
              "      <td>0</td>\n",
              "      <td>NaN</td>\n",
              "      <td>NaN</td>\n",
              "      <td>NaN</td>\n",
              "      <td>0</td>\n",
              "      <td>12</td>\n",
              "      <td>2008</td>\n",
              "      <td>WD</td>\n",
              "      <td>Normal</td>\n",
              "      <td>250000.0</td>\n",
              "    </tr>\n",
              "  </tbody>\n",
              "</table>\n",
              "<p>5 rows × 81 columns</p>\n",
              "</div>\n",
              "      <button class=\"colab-df-convert\" onclick=\"convertToInteractive('df-7c9d8dc1-895b-47f3-ac54-06bbde9a3b90')\"\n",
              "              title=\"Convert this dataframe to an interactive table.\"\n",
              "              style=\"display:none;\">\n",
              "        \n",
              "  <svg xmlns=\"http://www.w3.org/2000/svg\" height=\"24px\"viewBox=\"0 0 24 24\"\n",
              "       width=\"24px\">\n",
              "    <path d=\"M0 0h24v24H0V0z\" fill=\"none\"/>\n",
              "    <path d=\"M18.56 5.44l.94 2.06.94-2.06 2.06-.94-2.06-.94-.94-2.06-.94 2.06-2.06.94zm-11 1L8.5 8.5l.94-2.06 2.06-.94-2.06-.94L8.5 2.5l-.94 2.06-2.06.94zm10 10l.94 2.06.94-2.06 2.06-.94-2.06-.94-.94-2.06-.94 2.06-2.06.94z\"/><path d=\"M17.41 7.96l-1.37-1.37c-.4-.4-.92-.59-1.43-.59-.52 0-1.04.2-1.43.59L10.3 9.45l-7.72 7.72c-.78.78-.78 2.05 0 2.83L4 21.41c.39.39.9.59 1.41.59.51 0 1.02-.2 1.41-.59l7.78-7.78 2.81-2.81c.8-.78.8-2.07 0-2.86zM5.41 20L4 18.59l7.72-7.72 1.47 1.35L5.41 20z\"/>\n",
              "  </svg>\n",
              "      </button>\n",
              "      \n",
              "  <style>\n",
              "    .colab-df-container {\n",
              "      display:flex;\n",
              "      flex-wrap:wrap;\n",
              "      gap: 12px;\n",
              "    }\n",
              "\n",
              "    .colab-df-convert {\n",
              "      background-color: #E8F0FE;\n",
              "      border: none;\n",
              "      border-radius: 50%;\n",
              "      cursor: pointer;\n",
              "      display: none;\n",
              "      fill: #1967D2;\n",
              "      height: 32px;\n",
              "      padding: 0 0 0 0;\n",
              "      width: 32px;\n",
              "    }\n",
              "\n",
              "    .colab-df-convert:hover {\n",
              "      background-color: #E2EBFA;\n",
              "      box-shadow: 0px 1px 2px rgba(60, 64, 67, 0.3), 0px 1px 3px 1px rgba(60, 64, 67, 0.15);\n",
              "      fill: #174EA6;\n",
              "    }\n",
              "\n",
              "    [theme=dark] .colab-df-convert {\n",
              "      background-color: #3B4455;\n",
              "      fill: #D2E3FC;\n",
              "    }\n",
              "\n",
              "    [theme=dark] .colab-df-convert:hover {\n",
              "      background-color: #434B5C;\n",
              "      box-shadow: 0px 1px 3px 1px rgba(0, 0, 0, 0.15);\n",
              "      filter: drop-shadow(0px 1px 2px rgba(0, 0, 0, 0.3));\n",
              "      fill: #FFFFFF;\n",
              "    }\n",
              "  </style>\n",
              "\n",
              "      <script>\n",
              "        const buttonEl =\n",
              "          document.querySelector('#df-7c9d8dc1-895b-47f3-ac54-06bbde9a3b90 button.colab-df-convert');\n",
              "        buttonEl.style.display =\n",
              "          google.colab.kernel.accessAllowed ? 'block' : 'none';\n",
              "\n",
              "        async function convertToInteractive(key) {\n",
              "          const element = document.querySelector('#df-7c9d8dc1-895b-47f3-ac54-06bbde9a3b90');\n",
              "          const dataTable =\n",
              "            await google.colab.kernel.invokeFunction('convertToInteractive',\n",
              "                                                     [key], {});\n",
              "          if (!dataTable) return;\n",
              "\n",
              "          const docLinkHtml = 'Like what you see? Visit the ' +\n",
              "            '<a target=\"_blank\" href=https://colab.research.google.com/notebooks/data_table.ipynb>data table notebook</a>'\n",
              "            + ' to learn more about interactive tables.';\n",
              "          element.innerHTML = '';\n",
              "          dataTable['output_type'] = 'display_data';\n",
              "          await google.colab.output.renderOutput(dataTable, element);\n",
              "          const docLink = document.createElement('div');\n",
              "          docLink.innerHTML = docLinkHtml;\n",
              "          element.appendChild(docLink);\n",
              "        }\n",
              "      </script>\n",
              "    </div>\n",
              "  </div>\n",
              "  "
            ]
          },
          "metadata": {},
          "execution_count": 5
        }
      ]
    },
    {
      "cell_type": "code",
      "source": [
        "# Basic summary:\n",
        "data_df['SalePrice'].describe()"
      ],
      "metadata": {
        "colab": {
          "base_uri": "https://localhost:8080/"
        },
        "id": "EJdiFAR496Di",
        "outputId": "fb8f7cdb-ca6d-4f73-a7cc-a5f6fb7cfc19"
      },
      "execution_count": 6,
      "outputs": [
        {
          "output_type": "execute_result",
          "data": {
            "text/plain": [
              "count      1460.000000\n",
              "mean     180921.195890\n",
              "std       79442.502883\n",
              "min       34900.000000\n",
              "25%      129975.000000\n",
              "50%      163000.000000\n",
              "75%      214000.000000\n",
              "max      755000.000000\n",
              "Name: SalePrice, dtype: float64"
            ]
          },
          "metadata": {},
          "execution_count": 6
        }
      ]
    },
    {
      "cell_type": "code",
      "source": [
        "sns.boxplot(data_df['SalePrice'])"
      ],
      "metadata": {
        "colab": {
          "base_uri": "https://localhost:8080/",
          "height": 296
        },
        "id": "s8U1Hllm9_Er",
        "outputId": "40a9f6d7-7d8c-4033-9ebd-76202f97d52d"
      },
      "execution_count": 7,
      "outputs": [
        {
          "output_type": "execute_result",
          "data": {
            "text/plain": [
              "<matplotlib.axes._subplots.AxesSubplot at 0x7f0a2321a110>"
            ]
          },
          "metadata": {},
          "execution_count": 7
        },
        {
          "output_type": "display_data",
          "data": {
            "text/plain": [
              "<Figure size 432x288 with 1 Axes>"
            ],
            "image/png": "[encoded data removed]"
          },
          "metadata": {
            "needs_background": "light"
          }
        }
      ]
    },
    {
      "cell_type": "code",
      "source": [
        "# The Density Plot of SalePrice\n",
        "sns.distplot(data_df['SalePrice'])"
      ],
      "metadata": {
        "colab": {
          "base_uri": "https://localhost:8080/",
          "height": 307
        },
        "id": "YTyzA24E-D1V",
        "outputId": "9b66bbf4-fc2a-4653-8bf7-4eef7bd3ac22"
      },
      "execution_count": 8,
      "outputs": [
        {
          "output_type": "execute_result",
          "data": {
            "text/plain": [
              "<matplotlib.axes._subplots.AxesSubplot at 0x7f0a231594d0>"
            ]
          },
          "metadata": {},
          "execution_count": 8
        },
        {
          "output_type": "display_data",
          "data": {
            "text/plain": [
              "<Figure size 432x288 with 1 Axes>"
            ],
            "image/png": "[encoded data removed]"
          },
          "metadata": {
            "needs_background": "light"
          }
        }
      ]
    },
    {
      "cell_type": "code",
      "source": [
        "# Positive Skeweness:\n",
        "data_df['SalePrice'].skew()"
      ],
      "metadata": {
        "colab": {
          "base_uri": "https://localhost:8080/"
        },
        "id": "-eyxuMXQ-HAR",
        "outputId": "be4af30d-1206-42b5-9e06-220c9633e8fb"
      },
      "execution_count": 9,
      "outputs": [
        {
          "output_type": "execute_result",
          "data": {
            "text/plain": [
              "1.8828757597682129"
            ]
          },
          "metadata": {},
          "execution_count": 9
        }
      ]
    },
    {
      "cell_type": "code",
      "source": [
        "data_df[\"SalePrice\"] = np.log1p(data_df[\"SalePrice\"])"
      ],
      "metadata": {
        "id": "ocQF5Ptw-JZx"
      },
      "execution_count": 10,
      "outputs": []
    },
    {
      "cell_type": "code",
      "source": [
        "# SalePrice after Log-transformation\n",
        "sns.distplot(data_df[\"SalePrice\"])\n",
        "plt.title(\"Density plot of SalePrice after Log Transformation\")\n"
      ],
      "metadata": {
        "colab": {
          "base_uri": "https://localhost:8080/",
          "height": 312
        },
        "id": "Y4JeGd0G-M0N",
        "outputId": "1b222d97-1cf2-4a6b-d92d-cbf00b5a872a"
      },
      "execution_count": 11,
      "outputs": [
        {
          "output_type": "execute_result",
          "data": {
            "text/plain": [
              "Text(0.5, 1.0, 'Density plot of SalePrice after Log Transformation')"
            ]
          },
          "metadata": {},
          "execution_count": 11
        },
        {
          "output_type": "display_data",
          "data": {
            "text/plain": [
              "<Figure size 432x288 with 1 Axes>"
            ],
            "image/png": "[encoded data removed]"
          },
          "metadata": {
            "needs_background": "light"
          }
        }
      ]
    },
    {
      "cell_type": "code",
      "source": [
        "y_train = data_df[\"SalePrice\"]\n"
      ],
      "metadata": {
        "id": "4Edb-NWw-PZ4"
      },
      "execution_count": 12,
      "outputs": []
    },
    {
      "cell_type": "code",
      "source": [
        "plt.figure(figsize=(8, 5))\n",
        "sns.set(font_scale=1.2)\n",
        "col_nan[col_nan > 0.01].plot(kind = \"barh\")\n",
        "plt.title(\"Features with the highest percentage of Nan values\")"
      ],
      "metadata": {
        "colab": {
          "base_uri": "https://localhost:8080/",
          "height": 235
        },
        "id": "NRCA_OFF-TmE",
        "outputId": "ed3075cc-b1a6-4111-e314-23389c3ef4a5"
      },
      "execution_count": 15,
      "outputs": [
        {
          "output_type": "error",
          "ename": "NameError",
          "evalue": "ignored",
          "traceback": [
            "\u001b[0;31m---------------------------------------------------------------------------\u001b[0m",
            "\u001b[0;31mNameError\u001b[0m                                 Traceback (most recent call last)",
            "\u001b[0;32m<ipython-input-15-848032110667>\u001b[0m in \u001b[0;36m<module>\u001b[0;34m\u001b[0m\n\u001b[1;32m      1\u001b[0m \u001b[0mplt\u001b[0m\u001b[0;34m.\u001b[0m\u001b[0mfigure\u001b[0m\u001b[0;34m(\u001b[0m\u001b[0mfigsize\u001b[0m\u001b[0;34m=\u001b[0m\u001b[0;34m(\u001b[0m\u001b[0;36m8\u001b[0m\u001b[0;34m,\u001b[0m \u001b[0;36m5\u001b[0m\u001b[0;34m)\u001b[0m\u001b[0;34m)\u001b[0m\u001b[0;34m\u001b[0m\u001b[0;34m\u001b[0m\u001b[0m\n\u001b[1;32m      2\u001b[0m \u001b[0msns\u001b[0m\u001b[0;34m.\u001b[0m\u001b[0mset\u001b[0m\u001b[0;34m(\u001b[0m\u001b[0mfont_scale\u001b[0m\u001b[0;34m=\u001b[0m\u001b[0;36m1.2\u001b[0m\u001b[0;34m)\u001b[0m\u001b[0;34m\u001b[0m\u001b[0;34m\u001b[0m\u001b[0m\n\u001b[0;32m----> 3\u001b[0;31m \u001b[0mcol_nan\u001b[0m\u001b[0;34m[\u001b[0m\u001b[0mcol_nan\u001b[0m \u001b[0;34m>\u001b[0m \u001b[0;36m0.01\u001b[0m\u001b[0;34m]\u001b[0m\u001b[0;34m.\u001b[0m\u001b[0mplot\u001b[0m\u001b[0;34m(\u001b[0m\u001b[0mkind\u001b[0m \u001b[0;34m=\u001b[0m \u001b[0;34m\"barh\"\u001b[0m\u001b[0;34m)\u001b[0m\u001b[0;34m\u001b[0m\u001b[0;34m\u001b[0m\u001b[0m\n\u001b[0m\u001b[1;32m      4\u001b[0m \u001b[0mplt\u001b[0m\u001b[0;34m.\u001b[0m\u001b[0mtitle\u001b[0m\u001b[0;34m(\u001b[0m\u001b[0;34m\"Features with the highest percentage of Nan values\"\u001b[0m\u001b[0;34m)\u001b[0m\u001b[0;34m\u001b[0m\u001b[0;34m\u001b[0m\u001b[0m\n",
            "\u001b[0;31mNameError\u001b[0m: name 'col_nan' is not defined"
          ]
        },
        {
          "output_type": "display_data",
          "data": {
            "text/plain": [
              "<Figure size 576x360 with 0 Axes>"
            ]
          },
          "metadata": {}
        }
      ]
    },
    {
      "cell_type": "code",
      "source": [
        "\"\"\" In some of my trials I removed columns with more than 90% od NaN values, \n",
        "    but finally I missed this step and left them for further analysis.\"\"\"\n"
      ],
      "metadata": {
        "colab": {
          "base_uri": "https://localhost:8080/",
          "height": 53
        },
        "id": "dUQWCj0l-V1B",
        "outputId": "447d8564-369f-4563-ef44-83501f96b095"
      },
      "execution_count": 14,
      "outputs": [
        {
          "output_type": "execute_result",
          "data": {
            "text/plain": [
              "' In some of my trials I removed columns with more than 90% od NaN values, \\n    but finally I missed this step and left them for further analysis.'"
            ],
            "application/vnd.google.colaboratory.intrinsic+json": {
              "type": "string"
            }
          },
          "metadata": {},
          "execution_count": 14
        }
      ]
    },
    {
      "cell_type": "code",
      "source": [
        "# Dropping columns for both train and test dataset\n",
        "data_df = data_df.drop(\"Id\", axis=1)\n",
        "test_df = test_df.drop(\"Id\", axis=1)"
      ],
      "metadata": {
        "id": "9ID210yk-aJ8"
      },
      "execution_count": 16,
      "outputs": []
    },
    {
      "cell_type": "code",
      "source": [
        "data_df = data_df.drop([\"Street\", \"Utilities\"], axis=1)\n",
        "test_df = test_df.drop([\"Street\", \"Utilities\"], axis=1)"
      ],
      "metadata": {
        "id": "gmW606hh-yA0"
      },
      "execution_count": 17,
      "outputs": []
    },
    {
      "cell_type": "code",
      "source": [
        "def remove_outliers(dataset, threshold, columns=None, removed = False):\n",
        "    \"\"\" \n",
        "    Z-score method.\n",
        "    Function returns a dataframe without rows labeled as 'outliers' according to the given threshold.  \n",
        "    ---------------\n",
        "    If columns = None, transform all numerical columns.\n",
        "    If removed = True, return also dataframe with removed rows.\n",
        "    \"\"\"\n",
        "    if columns==None:\n",
        "        numerics = ['int64','float64']\n",
        "        columns = dataset.select_dtypes(include=numerics).columns\n",
        "    \n",
        "    tmp = dataset.copy()\n",
        "    z = np.abs(stats.zscore(tmp[columns]))\n",
        "    outliers = [row.any() for row in (z > threshold)]  \n",
        "    outliers_idxs = tmp.index[outliers].tolist()\n",
        "    print(\"Number of removed rows = {}\".format(len(outliers_idxs)))\n",
        "    if removed: return dataset.drop(outliers_idxs), tmp.loc[outliers]\n",
        "    else: return dataset.drop(outliers_idxs)"
      ],
      "metadata": {
        "id": "XFqUulg6-0Hr"
      },
      "execution_count": 18,
      "outputs": []
    },
    {
      "cell_type": "code",
      "source": [
        "plt.figure(figsize=(8, 5))\n",
        "sns.set(font_scale=1.2)\n",
        "sns.scatterplot(data_df[\"GrLivArea\"], data_df[\"SalePrice\"])\n",
        "# plt.vlines(4500, ymax=800000, ymin=0)\n",
        "plt.title(\"GrLivArea vs SalePrice\")"
      ],
      "metadata": {
        "colab": {
          "base_uri": "https://localhost:8080/",
          "height": 377
        },
        "id": "M70LF3Gj-3cB",
        "outputId": "2512a1de-982b-4c00-a9f5-dca1e44434e7"
      },
      "execution_count": 19,
      "outputs": [
        {
          "output_type": "execute_result",
          "data": {
            "text/plain": [
              "Text(0.5, 1.0, 'GrLivArea vs SalePrice')"
            ]
          },
          "metadata": {},
          "execution_count": 19
        },
        {
          "output_type": "display_data",
          "data": {
            "text/plain": [
              "<Figure size 576x360 with 1 Axes>"
            ],
            "image/png": "[encoded data removed]"
          },
          "metadata": {}
        }
      ]
    },
    {
      "cell_type": "code",
      "source": [
        "clear_data = data_df.drop(data_df[(data_df['GrLivArea']>4500)].index)\n"
      ],
      "metadata": {
        "id": "1TAh6FZ7-7hy"
      },
      "execution_count": 20,
      "outputs": []
    },
    {
      "cell_type": "code",
      "source": [
        "train_ = clear_data.drop(['SalePrice'], axis=1)\n",
        "all_data = pd.concat([data_df, test_df]).reset_index(drop=True)"
      ],
      "metadata": {
        "id": "Oq4AXDg4_AEv"
      },
      "execution_count": 21,
      "outputs": []
    },
    {
      "cell_type": "code",
      "source": [
        "print(\"Is there YearBuilt more than 2017 ? : \", all_data[all_data.YearBuilt > 2017].count()[0] != 0)\n",
        "print(\"Is there GarageYrBlt more than 2017 ? : \", all_data[all_data.GarageYrBlt > 2017].count()[0] != 0)"
      ],
      "metadata": {
        "colab": {
          "base_uri": "https://localhost:8080/"
        },
        "id": "oynhLlgw_Dop",
        "outputId": "308fa5b2-47f2-407f-e93f-a077621057e9"
      },
      "execution_count": 22,
      "outputs": [
        {
          "output_type": "stream",
          "name": "stdout",
          "text": [
            "Is there YearBuilt more than 2017 ? :  False\n",
            "Is there GarageYrBlt more than 2017 ? :  True\n"
          ]
        }
      ]
    },
    {
      "cell_type": "code",
      "source": [
        "all_data[all_data.GarageYrBlt > 2017].GarageYrBlt #It seems like it is a typo\n"
      ],
      "metadata": {
        "colab": {
          "base_uri": "https://localhost:8080/"
        },
        "id": "zsk4wqMQ_Gyu",
        "outputId": "f3a3f22e-2465-4f1e-c467-5a55bbe8c4b9"
      },
      "execution_count": 23,
      "outputs": [
        {
          "output_type": "execute_result",
          "data": {
            "text/plain": [
              "2592    2207.0\n",
              "Name: GarageYrBlt, dtype: float64"
            ]
          },
          "metadata": {},
          "execution_count": 23
        }
      ]
    },
    {
      "cell_type": "code",
      "source": [
        "all_data.loc[2590, 'GarageYrBlt'] = 2007"
      ],
      "metadata": {
        "id": "vD2ajcMA_KY1"
      },
      "execution_count": 24,
      "outputs": []
    },
    {
      "cell_type": "code",
      "source": [
        "neigh_lot_frontage = all_data.groupby('Neighborhood')['LotFrontage'].agg([\"mean\", \"median\"])\n",
        "neigh_lot_frontage['avg_mean_median'] = (neigh_lot_frontage['mean'] + neigh_lot_frontage['median'] )/ 2\n",
        "neigh_lot_frontage"
      ],
      "metadata": {
        "colab": {
          "base_uri": "https://localhost:8080/",
          "height": 864
        },
        "id": "72fbW38R_NOj",
        "outputId": "34e1ab08-473e-4881-fc30-b8c084b708ba"
      },
      "execution_count": 25,
      "outputs": [
        {
          "output_type": "execute_result",
          "data": {
            "text/plain": [
              "                   mean  median  avg_mean_median\n",
              "Neighborhood                                    \n",
              "Blmngtn       46.900000    43.0        44.950000\n",
              "Blueste       27.300000    24.0        25.650000\n",
              "BrDale        21.500000    21.0        21.250000\n",
              "BrkSide       55.789474    51.0        53.394737\n",
              "ClearCr       88.150000    80.5        84.325000\n",
              "CollgCr       71.336364    70.0        70.668182\n",
              "Crawfor       69.951807    70.0        69.975904\n",
              "Edwards       66.910112    65.0        65.955056\n",
              "Gilbert       74.207207    64.0        69.103604\n",
              "IDOTRR        62.241379    60.0        61.120690\n",
              "MeadowV       25.606061    21.0        23.303030\n",
              "Mitchel       75.144444    74.0        74.572222\n",
              "NAmes         75.210667    73.0        74.105333\n",
              "NPkVill       28.142857    24.0        26.071429\n",
              "NWAmes        81.517647    80.0        80.758824\n",
              "NoRidge       91.629630    89.0        90.314815\n",
              "NridgHt       84.184049    92.0        88.092025\n",
              "OldTown       61.777293    60.0        60.888646\n",
              "SWISU         59.068182    60.0        59.534091\n",
              "Sawyer        74.551020    72.0        73.275510\n",
              "SawyerW       70.669811    67.0        68.834906\n",
              "Somerst       64.549383    72.5        68.524691\n",
              "StoneBr       62.173913    60.0        61.086957\n",
              "Timber        81.157895    82.0        81.578947\n",
              "Veenker       72.000000    80.0        76.000000"
            ],
            "text/html": [
              "\n",
              "  <div id=\"df-e0c5d8b9-1fa4-4f72-9792-f88494399332\">\n",
              "    <div class=\"colab-df-container\">\n",
              "      <div>\n",
              "<style scoped>\n",
              "    .dataframe tbody tr th:only-of-type {\n",
              "        vertical-align: middle;\n",
              "    }\n",
              "\n",
              "    .dataframe tbody tr th {\n",
              "        vertical-align: top;\n",
              "    }\n",
              "\n",
              "    .dataframe thead th {\n",
              "        text-align: right;\n",
              "    }\n",
              "</style>\n",
              "<table border=\"1\" class=\"dataframe\">\n",
              "  <thead>\n",
              "    <tr style=\"text-align: right;\">\n",
              "      <th></th>\n",
              "      <th>mean</th>\n",
              "      <th>median</th>\n",
              "      <th>avg_mean_median</th>\n",
              "    </tr>\n",
              "    <tr>\n",
              "      <th>Neighborhood</th>\n",
              "      <th></th>\n",
              "      <th></th>\n",
              "      <th></th>\n",
              "    </tr>\n",
              "  </thead>\n",
              "  <tbody>\n",
              "    <tr>\n",
              "      <th>Blmngtn</th>\n",
              "      <td>46.900000</td>\n",
              "      <td>43.0</td>\n",
              "      <td>44.950000</td>\n",
              "    </tr>\n",
              "    <tr>\n",
              "      <th>Blueste</th>\n",
              "      <td>27.300000</td>\n",
              "      <td>24.0</td>\n",
              "      <td>25.650000</td>\n",
              "    </tr>\n",
              "    <tr>\n",
              "      <th>BrDale</th>\n",
              "      <td>21.500000</td>\n",
              "      <td>21.0</td>\n",
              "      <td>21.250000</td>\n",
              "    </tr>\n",
              "    <tr>\n",
              "      <th>BrkSide</th>\n",
              "      <td>55.789474</td>\n",
              "      <td>51.0</td>\n",
              "      <td>53.394737</td>\n",
              "    </tr>\n",
              "    <tr>\n",
              "      <th>ClearCr</th>\n",
              "      <td>88.150000</td>\n",
              "      <td>80.5</td>\n",
              "      <td>84.325000</td>\n",
              "    </tr>\n",
              "    <tr>\n",
              "      <th>CollgCr</th>\n",
              "      <td>71.336364</td>\n",
              "      <td>70.0</td>\n",
              "      <td>70.668182</td>\n",
              "    </tr>\n",
              "    <tr>\n",
              "      <th>Crawfor</th>\n",
              "      <td>69.951807</td>\n",
              "      <td>70.0</td>\n",
              "      <td>69.975904</td>\n",
              "    </tr>\n",
              "    <tr>\n",
              "      <th>Edwards</th>\n",
              "      <td>66.910112</td>\n",
              "      <td>65.0</td>\n",
              "      <td>65.955056</td>\n",
              "    </tr>\n",
              "    <tr>\n",
              "      <th>Gilbert</th>\n",
              "      <td>74.207207</td>\n",
              "      <td>64.0</td>\n",
              "      <td>69.103604</td>\n",
              "    </tr>\n",
              "    <tr>\n",
              "      <th>IDOTRR</th>\n",
              "      <td>62.241379</td>\n",
              "      <td>60.0</td>\n",
              "      <td>61.120690</td>\n",
              "    </tr>\n",
              "    <tr>\n",
              "      <th>MeadowV</th>\n",
              "      <td>25.606061</td>\n",
              "      <td>21.0</td>\n",
              "      <td>23.303030</td>\n",
              "    </tr>\n",
              "    <tr>\n",
              "      <th>Mitchel</th>\n",
              "      <td>75.144444</td>\n",
              "      <td>74.0</td>\n",
              "      <td>74.572222</td>\n",
              "    </tr>\n",
              "    <tr>\n",
              "      <th>NAmes</th>\n",
              "      <td>75.210667</td>\n",
              "      <td>73.0</td>\n",
              "      <td>74.105333</td>\n",
              "    </tr>\n",
              "    <tr>\n",
              "      <th>NPkVill</th>\n",
              "      <td>28.142857</td>\n",
              "      <td>24.0</td>\n",
              "      <td>26.071429</td>\n",
              "    </tr>\n",
              "    <tr>\n",
              "      <th>NWAmes</th>\n",
              "      <td>81.517647</td>\n",
              "      <td>80.0</td>\n",
              "      <td>80.758824</td>\n",
              "    </tr>\n",
              "    <tr>\n",
              "      <th>NoRidge</th>\n",
              "      <td>91.629630</td>\n",
              "      <td>89.0</td>\n",
              "      <td>90.314815</td>\n",
              "    </tr>\n",
              "    <tr>\n",
              "      <th>NridgHt</th>\n",
              "      <td>84.184049</td>\n",
              "      <td>92.0</td>\n",
              "      <td>88.092025</td>\n",
              "    </tr>\n",
              "    <tr>\n",
              "      <th>OldTown</th>\n",
              "      <td>61.777293</td>\n",
              "      <td>60.0</td>\n",
              "      <td>60.888646</td>\n",
              "    </tr>\n",
              "    <tr>\n",
              "      <th>SWISU</th>\n",
              "      <td>59.068182</td>\n",
              "      <td>60.0</td>\n",
              "      <td>59.534091</td>\n",
              "    </tr>\n",
              "    <tr>\n",
              "      <th>Sawyer</th>\n",
              "      <td>74.551020</td>\n",
              "      <td>72.0</td>\n",
              "      <td>73.275510</td>\n",
              "    </tr>\n",
              "    <tr>\n",
              "      <th>SawyerW</th>\n",
              "      <td>70.669811</td>\n",
              "      <td>67.0</td>\n",
              "      <td>68.834906</td>\n",
              "    </tr>\n",
              "    <tr>\n",
              "      <th>Somerst</th>\n",
              "      <td>64.549383</td>\n",
              "      <td>72.5</td>\n",
              "      <td>68.524691</td>\n",
              "    </tr>\n",
              "    <tr>\n",
              "      <th>StoneBr</th>\n",
              "      <td>62.173913</td>\n",
              "      <td>60.0</td>\n",
              "      <td>61.086957</td>\n",
              "    </tr>\n",
              "    <tr>\n",
              "      <th>Timber</th>\n",
              "      <td>81.157895</td>\n",
              "      <td>82.0</td>\n",
              "      <td>81.578947</td>\n",
              "    </tr>\n",
              "    <tr>\n",
              "      <th>Veenker</th>\n",
              "      <td>72.000000</td>\n",
              "      <td>80.0</td>\n",
              "      <td>76.000000</td>\n",
              "    </tr>\n",
              "  </tbody>\n",
              "</table>\n",
              "</div>\n",
              "      <button class=\"colab-df-convert\" onclick=\"convertToInteractive('df-e0c5d8b9-1fa4-4f72-9792-f88494399332')\"\n",
              "              title=\"Convert this dataframe to an interactive table.\"\n",
              "              style=\"display:none;\">\n",
              "        \n",
              "  <svg xmlns=\"http://www.w3.org/2000/svg\" height=\"24px\"viewBox=\"0 0 24 24\"\n",
              "       width=\"24px\">\n",
              "    <path d=\"M0 0h24v24H0V0z\" fill=\"none\"/>\n",
              "    <path d=\"M18.56 5.44l.94 2.06.94-2.06 2.06-.94-2.06-.94-.94-2.06-.94 2.06-2.06.94zm-11 1L8.5 8.5l.94-2.06 2.06-.94-2.06-.94L8.5 2.5l-.94 2.06-2.06.94zm10 10l.94 2.06.94-2.06 2.06-.94-2.06-.94-.94-2.06-.94 2.06-2.06.94z\"/><path d=\"M17.41 7.96l-1.37-1.37c-.4-.4-.92-.59-1.43-.59-.52 0-1.04.2-1.43.59L10.3 9.45l-7.72 7.72c-.78.78-.78 2.05 0 2.83L4 21.41c.39.39.9.59 1.41.59.51 0 1.02-.2 1.41-.59l7.78-7.78 2.81-2.81c.8-.78.8-2.07 0-2.86zM5.41 20L4 18.59l7.72-7.72 1.47 1.35L5.41 20z\"/>\n",
              "  </svg>\n",
              "      </button>\n",
              "      \n",
              "  <style>\n",
              "    .colab-df-container {\n",
              "      display:flex;\n",
              "      flex-wrap:wrap;\n",
              "      gap: 12px;\n",
              "    }\n",
              "\n",
              "    .colab-df-convert {\n",
              "      background-color: #E8F0FE;\n",
              "      border: none;\n",
              "      border-radius: 50%;\n",
              "      cursor: pointer;\n",
              "      display: none;\n",
              "      fill: #1967D2;\n",
              "      height: 32px;\n",
              "      padding: 0 0 0 0;\n",
              "      width: 32px;\n",
              "    }\n",
              "\n",
              "    .colab-df-convert:hover {\n",
              "      background-color: #E2EBFA;\n",
              "      box-shadow: 0px 1px 2px rgba(60, 64, 67, 0.3), 0px 1px 3px 1px rgba(60, 64, 67, 0.15);\n",
              "      fill: #174EA6;\n",
              "    }\n",
              "\n",
              "    [theme=dark] .colab-df-convert {\n",
              "      background-color: #3B4455;\n",
              "      fill: #D2E3FC;\n",
              "    }\n",
              "\n",
              "    [theme=dark] .colab-df-convert:hover {\n",
              "      background-color: #434B5C;\n",
              "      box-shadow: 0px 1px 3px 1px rgba(0, 0, 0, 0.15);\n",
              "      filter: drop-shadow(0px 1px 2px rgba(0, 0, 0, 0.3));\n",
              "      fill: #FFFFFF;\n",
              "    }\n",
              "  </style>\n",
              "\n",
              "      <script>\n",
              "        const buttonEl =\n",
              "          document.querySelector('#df-e0c5d8b9-1fa4-4f72-9792-f88494399332 button.colab-df-convert');\n",
              "        buttonEl.style.display =\n",
              "          google.colab.kernel.accessAllowed ? 'block' : 'none';\n",
              "\n",
              "        async function convertToInteractive(key) {\n",
              "          const element = document.querySelector('#df-e0c5d8b9-1fa4-4f72-9792-f88494399332');\n",
              "          const dataTable =\n",
              "            await google.colab.kernel.invokeFunction('convertToInteractive',\n",
              "                                                     [key], {});\n",
              "          if (!dataTable) return;\n",
              "\n",
              "          const docLinkHtml = 'Like what you see? Visit the ' +\n",
              "            '<a target=\"_blank\" href=https://colab.research.google.com/notebooks/data_table.ipynb>data table notebook</a>'\n",
              "            + ' to learn more about interactive tables.';\n",
              "          element.innerHTML = '';\n",
              "          dataTable['output_type'] = 'display_data';\n",
              "          await google.colab.output.renderOutput(dataTable, element);\n",
              "          const docLink = document.createElement('div');\n",
              "          docLink.innerHTML = docLinkHtml;\n",
              "          element.appendChild(docLink);\n",
              "        }\n",
              "      </script>\n",
              "    </div>\n",
              "  </div>\n",
              "  "
            ]
          },
          "metadata": {},
          "execution_count": 25
        }
      ]
    },
    {
      "cell_type": "code",
      "source": [
        "all_data['LotFrontage'] = all_data.groupby('Neighborhood')['LotFrontage'].transform(lambda x: x.fillna(x.median()))\n"
      ],
      "metadata": {
        "id": "XiYT9l-8_QnS"
      },
      "execution_count": 26,
      "outputs": []
    },
    {
      "cell_type": "code",
      "source": [
        "def convert_to_string(df, columns):\n",
        "    df[columns] = df[columns].astype(str)\n",
        "    return df"
      ],
      "metadata": {
        "id": "zCX0klFL_U7q"
      },
      "execution_count": 27,
      "outputs": []
    },
    {
      "cell_type": "code",
      "source": [
        "num_to_categ_features = ['MSSubClass', 'OverallCond']#, 'YrSold', 'MoSold']\n",
        "\n",
        "all_data = convert_to_string(all_data, columns = num_to_categ_features)"
      ],
      "metadata": {
        "id": "ViBN0XhD_aFG"
      },
      "execution_count": 28,
      "outputs": []
    },
    {
      "cell_type": "code",
      "source": [
        "num_features = all_data.select_dtypes(include=['int64','float64']).columns\n",
        "num_features_to_constant = ['BsmtFinSF1', 'BsmtFinSF2', 'BsmtFullBath', 'BsmtHalfBath', \"MasVnrArea\"] \n",
        "num_features_to_median = [feature for feature in num_features if feature not in num_features_to_constant + [\"SalePrice\"]]"
      ],
      "metadata": {
        "id": "RkGr0wYH_ass"
      },
      "execution_count": 29,
      "outputs": []
    },
    {
      "cell_type": "code",
      "source": [
        "numeric_features_median = sklearn_pandas.gen_features(columns=[num_features_to_median], \n",
        "                                               classes=[{'class': SimpleImputer, \n",
        "                                                         'strategy': 'median', \n",
        "                                                         'missing_values' : np.nan}])\n",
        "\n",
        "numeric_features_zero = sklearn_pandas.gen_features(columns=[num_features_to_constant], \n",
        "                                               classes=[{'class': SimpleImputer, \n",
        "                                                         'strategy': 'constant',\n",
        "                                                         'fill_value' : 0, \n",
        "                                                         'missing_values' : np.nan}])\n",
        "\n",
        "missing_val_imputer = sklearn_pandas.DataFrameMapper(numeric_features_median + numeric_features_zero)\n",
        "\n",
        "# Fitting\n",
        "imputed_median = missing_val_imputer.fit(all_data)\n",
        "\n",
        "# Transformation\n",
        "imputed_features = imputed_median.transform(all_data)\n",
        "\n",
        "# Putting into dataframe\n",
        "imputed_df = pd.DataFrame(imputed_features, index=all_data.index, columns=num_features_to_median + num_features_to_constant)"
      ],
      "metadata": {
        "id": "dDAPMDg__dod"
      },
      "execution_count": 30,
      "outputs": []
    },
    {
      "cell_type": "code",
      "source": [
        "cat_feats = all_data.select_dtypes(include=['object']).columns\n"
      ],
      "metadata": {
        "id": "iOhSEb01_jFC"
      },
      "execution_count": 31,
      "outputs": []
    },
    {
      "cell_type": "code",
      "source": [
        "none_conversion = [(\"MasVnrType\",\"None\"),\n",
        "                  (\"BsmtQual\",\"NA\"), \n",
        "                  (\"Electrical\", \"SBrkr\"),\n",
        "                  (\"BsmtCond\",\"TA\"),\n",
        "                  (\"BsmtExposure\",\"No\"),\n",
        "                  (\"BsmtFinType1\",\"No\"),\n",
        "                  (\"BsmtFinType2\",\"No\"),\n",
        "                  (\"CentralAir\",\"N\"),\n",
        "                  (\"Condition1\",\"Norm\"), \n",
        "                  (\"Condition2\",\"Norm\"),\n",
        "                  (\"ExterCond\",\"TA\"),\n",
        "                  (\"ExterQual\",\"TA\"), \n",
        "                  (\"FireplaceQu\",\"NA\"),\n",
        "                  (\"Functional\",\"Typ\"),\n",
        "                  (\"GarageType\",\"No\"), \n",
        "                  (\"GarageFinish\",\"No\"), \n",
        "                  (\"GarageQual\",\"NA\"), \n",
        "                  (\"GarageCond\",\"NA\"), \n",
        "                  (\"HeatingQC\",\"TA\"), \n",
        "                  (\"KitchenQual\",\"TA\"), \n",
        "                  (\"Functional\",\"Typ\"), \n",
        "                  (\"GarageType\",\"No\"), \n",
        "                  (\"GarageFinish\",\"No\"), \n",
        "                  (\"GarageQual\",\"No\"), \n",
        "                  (\"GarageCond\",\"No\"), \n",
        "                  (\"HeatingQC\",\"TA\"), \n",
        "                  (\"KitchenQual\",\"TA\"),\n",
        "                  (\"MSZoning\", \"None\"),\n",
        "                  (\"Exterior1st\", \"VinylSd\"), \n",
        "                  (\"Exterior2nd\", \"VinylSd\"), \n",
        "                  (\"SaleType\", \"WD\")]"
      ],
      "metadata": {
        "id": "ZR6RPj2w_mZR"
      },
      "execution_count": 32,
      "outputs": []
    },
    {
      "cell_type": "code",
      "source": [
        "def none_transform(df, conversion_list):\n",
        "    ''' Function that converts missing categorical values \n",
        "    into specific strings according to \"conversion_list\" \n",
        "    \n",
        "    Returns the dataframe after transformation.\n",
        "    '''\n",
        "    for col, new_str in conversion_list:\n",
        "        df.loc[:, col] = df.loc[:, col].fillna(new_str)\n",
        "    return df"
      ],
      "metadata": {
        "id": "L7bR3g9__uSs"
      },
      "execution_count": 33,
      "outputs": []
    },
    {
      "cell_type": "code",
      "source": [
        "all_data = none_transform(all_data, none_conversion)\n"
      ],
      "metadata": {
        "id": "BP0pViX0_z_o"
      },
      "execution_count": 34,
      "outputs": []
    },
    {
      "cell_type": "code",
      "source": [
        "len(all_data.columns)"
      ],
      "metadata": {
        "colab": {
          "base_uri": "https://localhost:8080/"
        },
        "id": "bM9rDQmi_22B",
        "outputId": "1524545c-2ab6-44a3-ac74-fdc965a93337"
      },
      "execution_count": 35,
      "outputs": [
        {
          "output_type": "execute_result",
          "data": {
            "text/plain": [
              "78"
            ]
          },
          "metadata": {},
          "execution_count": 35
        }
      ]
    },
    {
      "cell_type": "code",
      "source": [
        "numeric_features = [feat for feat in num_features if feat not in ['SalePrice']] \n",
        "\n",
        "# selecting columns with skew more than 0.5\n",
        "skewed_features = all_data[num_features].apply(lambda x: x.dropna().skew())\n",
        "skewed_features = skewed_features[skewed_features > 0.5].index\n",
        "print(\"\\nHighly skewed features: \\n\\n{}\".format(skewed_features.tolist()))"
      ],
      "metadata": {
        "colab": {
          "base_uri": "https://localhost:8080/"
        },
        "id": "r2a-CLno_4_A",
        "outputId": "07f49a87-1b98-4a43-89b6-40f091acf15f"
      },
      "execution_count": 36,
      "outputs": [
        {
          "output_type": "stream",
          "name": "stdout",
          "text": [
            "\n",
            "Highly skewed features: \n",
            "\n",
            "['LotFrontage', 'LotArea', 'MasVnrArea', 'BsmtFinSF1', 'BsmtFinSF2', 'BsmtUnfSF', 'TotalBsmtSF', '1stFlrSF', '2ndFlrSF', 'LowQualFinSF', 'GrLivArea', 'BsmtFullBath', 'BsmtHalfBath', 'HalfBath', 'KitchenAbvGr', 'TotRmsAbvGrd', 'Fireplaces', 'WoodDeckSF', 'OpenPorchSF', 'EnclosedPorch', '3SsnPorch', 'ScreenPorch', 'PoolArea', 'MiscVal']\n"
          ]
        }
      ]
    },
    {
      "cell_type": "code",
      "source": [
        "lambda_ = 0.15\n",
        "for feature in skewed_features:\n",
        "    all_data[feature] = boxcox1p(all_data[feature], lambda_)"
      ],
      "metadata": {
        "id": "j06TyVhO_8b8"
      },
      "execution_count": 37,
      "outputs": []
    },
    {
      "cell_type": "code",
      "source": [
        "class OrderedLabelTransformer(BaseEstimator, TransformerMixin):\n",
        "    orderDict = {\"NA\" : 0, \"Po\" : 1, \"Fa\" : 2, \"TA\" : 3, \"Gd\" : 4, \"Ex\" : 5}\n",
        "    \n",
        "    @staticmethod\n",
        "    def get_dict(X):\n",
        "        FirstDict = {\"Po\" : 0, \"Fa\" : 1, \"TA\" : 2, \"Gd\" : 3, \"Ex\" : 4}\n",
        "        SecondDict = {\"NA\" : 0, \"Po\" : 1, \"Fa\" : 2, \"TA\" : 3, \"Gd\" : 4, \"Ex\" : 5}\n",
        "        ThirdDict = {\"NA\" : 0, \"Fa\" : 1, \"TA\" : 2, \"Gd\" : 3, \"Ex\" : 4}\n",
        "        for d in [FirstDict, SecondDict, ThirdDict]:\n",
        "            if set(X) == set(d): \n",
        "                return d\n",
        "    \n",
        "    def fit(self, X, y=None):\n",
        "        return self\n",
        "    \n",
        "    def transform(self, X):\n",
        "        def get_label(t):\n",
        "            return self.orderDict[t]\n",
        "        return np.array([get_label(n) for n in X])"
      ],
      "metadata": {
        "id": "LEb08E-UACAr"
      },
      "execution_count": 38,
      "outputs": []
    },
    {
      "cell_type": "code",
      "source": [
        "class NeighborhoodTransformer(BaseEstimator, TransformerMixin):\n",
        "    neighborhoodsmap = {'StoneBr' : 2, 'NridgHt' : 2, 'NoRidge': 2, \n",
        "                        'MeadowV' : 0, 'IDOTRR' : 0, 'BrDale' : 0 ,\n",
        "                        'CollgCr': 1, 'Veenker' : 1, 'Crawfor' : 1,\n",
        "                        'Mitchel' : 1, 'Somerst' : 1, 'NWAmes' : 1,\n",
        "                        'OldTown' : 1, 'BrkSide' : 1, 'Sawyer' : 1, \n",
        "                        'NAmes' : 1, 'SawyerW' : 1, 'Edwards' : 1,\n",
        "                        'Timber' : 1, 'Gilbert' : 1, 'ClearCr' : 1,\n",
        "                        'NPkVill' : 1, 'Blmngtn' : 1, 'SWISU' : 1,\n",
        "                        'Blueste': 1}\n",
        "\n",
        "    def fit(self, X, y=None):\n",
        "        return self\n",
        "    \n",
        "    def transform(self, X):\n",
        "        def get_label(t):\n",
        "            return self.neighborhoodsmap[t]\n",
        "        return np.array([get_label(n) for [n] in X])"
      ],
      "metadata": {
        "id": "tFpBJ0OiAEry"
      },
      "execution_count": 39,
      "outputs": []
    },
    {
      "cell_type": "code",
      "source": [
        "order_feats = [\"ExterQual\", \"ExterCond\", \"HeatingQC\", \"KitchenQual\", \"BsmtQual\", \n",
        "               \"BsmtCond\", \"FireplaceQu\", \"GarageQual\", \"GarageCond\"]\n",
        "\n",
        "original_features_df = all_data[order_feats + ['Neighborhood']] # we need to save original values for one-hot encoding\n",
        "\n",
        "order_features = sklearn_pandas.gen_features(order_feats, [OrderedLabelTransformer])\n",
        "neighb_features = [(['Neighborhood'], [NeighborhoodTransformer()])]\n",
        "\n",
        "# Pipeline\n",
        "label_encoder = sklearn_pandas.DataFrameMapper(neighb_features + order_features)\n",
        "\n",
        "# The list with order of column names\n",
        "cols = [\"Neighborhood\"] + order_feats\n",
        "\n",
        "# Transformation both train and test set\n",
        "transformed_feats = label_encoder.fit_transform(all_data)\n",
        "\n",
        "# Putting transformed features into dataframe\n",
        "transformed_df = pd.DataFrame(transformed_feats, index=all_data.index, columns=cols)"
      ],
      "metadata": {
        "id": "QEPPM4c9AHh0"
      },
      "execution_count": 40,
      "outputs": []
    },
    {
      "cell_type": "code",
      "source": [
        "original_features_df.shape"
      ],
      "metadata": {
        "colab": {
          "base_uri": "https://localhost:8080/"
        },
        "id": "DcNf8TkZALD1",
        "outputId": "ed374b7a-6422-43d9-da54-bff0f95cc11e"
      },
      "execution_count": 41,
      "outputs": [
        {
          "output_type": "execute_result",
          "data": {
            "text/plain": [
              "(2919, 10)"
            ]
          },
          "metadata": {},
          "execution_count": 41
        }
      ]
    },
    {
      "cell_type": "code",
      "source": [
        "rest_features = set(pd.concat([imputed_df, original_features_df],axis=1).columns).symmetric_difference(set(all_data.columns))\n",
        "rest_features_df = all_data[list(rest_features)]"
      ],
      "metadata": {
        "id": "BDBh9WdzANmK"
      },
      "execution_count": 42,
      "outputs": []
    },
    {
      "cell_type": "code",
      "source": [
        "all_data = pd.concat([imputed_df, original_features_df, rest_features_df],axis=1)\n"
      ],
      "metadata": {
        "id": "R-kSWEnsAQrn"
      },
      "execution_count": 43,
      "outputs": []
    },
    {
      "cell_type": "code",
      "source": [
        "all_data.shape"
      ],
      "metadata": {
        "colab": {
          "base_uri": "https://localhost:8080/"
        },
        "id": "yrHKqgW2ASyT",
        "outputId": "f0b4100a-2d99-4261-f49a-940ebecbb39d"
      },
      "execution_count": 44,
      "outputs": [
        {
          "output_type": "execute_result",
          "data": {
            "text/plain": [
              "(2919, 78)"
            ]
          },
          "metadata": {},
          "execution_count": 44
        }
      ]
    },
    {
      "cell_type": "code",
      "source": [
        "all_data[\"TotalSqrtFeet\"] = all_data[\"GrLivArea\"] + all_data[\"TotalBsmtSF\"]\n",
        "# test_df[\"TotalSqrtFeet\"] = test_df[\"GrLivArea\"] + test_df[\"TotalBsmtSF\"]\n",
        "\n",
        "# Total number of bathrooms\n",
        "all_data[\"TotalBaths\"] = all_data[\"BsmtFullBath\"] + (all_data[\"BsmtHalfBath\"]  * .5) + all_data[\"FullBath\"] + (all_data[\"HalfBath\"]* .5)\n",
        "# test_df[\"TotalBaths\"] = test_df[\"BsmtFullBath\"] + (test_df[\"BsmtHalfBath\"]  * .5) + test_df[\"FullBath\"] + (test_df[\"HalfBath\"]* .5)"
      ],
      "metadata": {
        "id": "zUUmb0kmAUuY"
      },
      "execution_count": 45,
      "outputs": []
    },
    {
      "cell_type": "code",
      "source": [
        "all_data['Isgarage'] = all_data['GarageArea'].apply(lambda x: 1 if x > 0 else 0)\n",
        "\n",
        "# If the house has a fireplace\n",
        "all_data['Isfireplace'] = all_data['Fireplaces'].apply(lambda x: 1 if x > 0 else 0)\n",
        "\n",
        "# If the house has a pool\n",
        "all_data['Ispool'] = all_data['PoolArea'].apply(lambda x: 1 if x > 0 else 0)\n",
        "\n",
        "# If the house has second floor\n",
        "all_data['Issecondfloor'] = all_data['2ndFlrSF'].apply(lambda x: 1 if x > 0 else 0)\n",
        "\n",
        "# If the house has Open Porch\n",
        "all_data['IsOpenPorch'] = all_data['OpenPorchSF'].apply(lambda x: 1 if x > 0 else 0)\n",
        "\n",
        "# If the house has Wood Deck\n",
        "all_data['IsWoodDeck'] = all_data['WoodDeckSF'].apply(lambda x: 1 if x > 0 else 0)"
      ],
      "metadata": {
        "id": "JJ0W_MbJAZRb"
      },
      "execution_count": 46,
      "outputs": []
    },
    {
      "cell_type": "code",
      "source": [
        "all_data = all_data.drop([\"SalePrice\"], axis = 1)\n",
        "\n",
        "hot_one_features = pd.get_dummies(all_data).reset_index(drop=True)\n",
        "hot_one_features.shape"
      ],
      "metadata": {
        "colab": {
          "base_uri": "https://localhost:8080/"
        },
        "id": "hSmKktL0AcW1",
        "outputId": "65465631-5dfe-4468-a1d0-99b8d813662a"
      },
      "execution_count": 47,
      "outputs": [
        {
          "output_type": "execute_result",
          "data": {
            "text/plain": [
              "(2919, 324)"
            ]
          },
          "metadata": {},
          "execution_count": 47
        }
      ]
    },
    {
      "cell_type": "code",
      "source": [
        "all_data = pd.concat([transformed_df, hot_one_features],axis=1)\n"
      ],
      "metadata": {
        "id": "6k2YX5uDAfkC"
      },
      "execution_count": 48,
      "outputs": []
    },
    {
      "cell_type": "code",
      "source": [
        "train_preprocessed = all_data.iloc[:len(data_df),:]\n",
        "test_preprocessed = all_data.iloc[len(train_preprocessed):,:]\n",
        "print(len(test_preprocessed) == len(test_df))"
      ],
      "metadata": {
        "colab": {
          "base_uri": "https://localhost:8080/"
        },
        "id": "jSJVoD0uAheP",
        "outputId": "8e54783f-2f0e-46e9-fc77-20c1993a561f"
      },
      "execution_count": 49,
      "outputs": [
        {
          "output_type": "stream",
          "name": "stdout",
          "text": [
            "True\n"
          ]
        }
      ]
    },
    {
      "cell_type": "code",
      "source": [
        "X_train = train_preprocessed"
      ],
      "metadata": {
        "id": "XQuyzV9gAjY1"
      },
      "execution_count": 50,
      "outputs": []
    },
    {
      "cell_type": "code",
      "source": [
        "from sklearn.linear_model import Ridge, RidgeCV, ElasticNet, LassoCV, LassoLarsCV\n",
        "from sklearn.model_selection import cross_val_score, KFold\n",
        "from sklearn.pipeline import make_pipeline\n",
        "from sklearn.preprocessing import RobustScaler\n",
        "from sklearn.ensemble import RandomForestRegressor, GradientBoostingRegressor\n",
        "from sklearn.model_selection import GridSearchCV\n",
        "import xgboost as xgb\n",
        "\n",
        "from sklearn.linear_model import ElasticNet, Lasso, ElasticNetCV\n",
        "from sklearn.ensemble import  GradientBoostingRegressor\n",
        "from sklearn.kernel_ridge import KernelRidge\n",
        "from sklearn.base import RegressorMixin\n",
        "import lightgbm as lgb"
      ],
      "metadata": {
        "id": "8uULI2YQAmOP"
      },
      "execution_count": 51,
      "outputs": []
    },
    {
      "cell_type": "code",
      "source": [
        "print('Environment specification:\\n')\n",
        "for mod in sklearn, xgb, lgb:\n",
        "    print(mod.__name__, mod.__version__)"
      ],
      "metadata": {
        "colab": {
          "base_uri": "https://localhost:8080/"
        },
        "id": "tg_xdq7tAoaT",
        "outputId": "c7ff312b-ec6b-42e7-a761-9f4766ef66a3"
      },
      "execution_count": 52,
      "outputs": [
        {
          "output_type": "stream",
          "name": "stdout",
          "text": [
            "Environment specification:\n",
            "\n",
            "sklearn 1.0.2\n",
            "xgboost 0.90\n",
            "lightgbm 2.2.3\n"
          ]
        }
      ]
    },
    {
      "cell_type": "code",
      "source": [
        "def rmse(model):\n",
        "    n_folds=5\n",
        "    kfold = KFold(n_folds, random_state=42, shuffle=True).get_n_splits(X_train)\n",
        "    rmse_score = np.sqrt(-cross_val_score(model, X_train, y_train, scoring = \"neg_mean_squared_error\", cv = kfold, verbose = -1, n_jobs=-1))\n",
        "    return(np.mean(rmse_score))"
      ],
      "metadata": {
        "id": "-bQOllKXAqWq"
      },
      "execution_count": 53,
      "outputs": []
    },
    {
      "cell_type": "code",
      "source": [
        "lr_model = make_pipeline(RobustScaler(), LinearRegression()) #TODO: why Robust Scaler?\n",
        "\n",
        "lr_model.fit(X_train, y_train)\n",
        "y_train_pred = lr_model.predict(X_train)\n",
        "MSE_train = np.mean((y_train_pred - y_train)**2)\n",
        "\n",
        "print(\"Mean Squared Error = {:.8f}\".format(MSE_train))\n",
        "print(\"RMSE score for Linear Regression: {:.3f}\".format(rmse(lr_model)))"
      ],
      "metadata": {
        "colab": {
          "base_uri": "https://localhost:8080/"
        },
        "id": "Ub9TU0NyAtT-",
        "outputId": "e0978a45-1baf-442b-95d0-8b23f8398165"
      },
      "execution_count": 54,
      "outputs": [
        {
          "output_type": "stream",
          "name": "stdout",
          "text": [
            "Mean Squared Error = 0.00858436\n"
          ]
        },
        {
          "output_type": "stream",
          "name": "stderr",
          "text": [
            "[Parallel(n_jobs=-1)]: Using backend LokyBackend with 2 concurrent workers.\n"
          ]
        },
        {
          "output_type": "stream",
          "name": "stdout",
          "text": [
            "RMSE score for Linear Regression: 27073.303\n"
          ]
        },
        {
          "output_type": "stream",
          "name": "stderr",
          "text": [
            "[Parallel(n_jobs=-1)]: Done   5 out of   5 | elapsed:    2.2s finished\n"
          ]
        }
      ]
    },
    {
      "cell_type": "code",
      "source": [
        "sns.set(font_scale=1.5)\n",
        "plt.figure(figsize=(10,6))\n",
        "sns.scatterplot(y_train, y_train_pred)\n",
        "plt.xlabel(\"Prices\")\n",
        "plt.ylabel(\"Predicted prices\")\n",
        "plt.title(\"Prices vs. Predicted Prices\")"
      ],
      "metadata": {
        "colab": {
          "base_uri": "https://localhost:8080/",
          "height": 444
        },
        "id": "3PFBdZSMAvvv",
        "outputId": "3905c886-404c-482f-bc91-938ca190a888"
      },
      "execution_count": 55,
      "outputs": [
        {
          "output_type": "execute_result",
          "data": {
            "text/plain": [
              "Text(0.5, 1.0, 'Prices vs. Predicted Prices')"
            ]
          },
          "metadata": {},
          "execution_count": 55
        },
        {
          "output_type": "display_data",
          "data": {
            "text/plain": [
              "<Figure size 720x432 with 1 Axes>"
            ],
            "image/png": "[encoded data removed]"
          },
          "metadata": {}
        }
      ]
    },
    {
      "cell_type": "code",
      "source": [
        "plt.figure(figsize=(10,6))\n",
        "sns.scatterplot(y_train_pred, y_train_pred - y_train)\n",
        "plt.title(\"Residual Plot\")\n",
        "plt.xlabel(\"Predicted values\")\n",
        "plt.ylabel(\"Residuals\")"
      ],
      "metadata": {
        "colab": {
          "base_uri": "https://localhost:8080/",
          "height": 444
        },
        "id": "MPH-mN0aAzau",
        "outputId": "262f60c7-3c05-4f1a-a78c-dacbde7d8847"
      },
      "execution_count": 56,
      "outputs": [
        {
          "output_type": "execute_result",
          "data": {
            "text/plain": [
              "Text(0, 0.5, 'Residuals')"
            ]
          },
          "metadata": {},
          "execution_count": 56
        },
        {
          "output_type": "display_data",
          "data": {
            "text/plain": [
              "<Figure size 720x432 with 1 Axes>"
            ],
            "image/png": "[encoded data removed]"
          },
          "metadata": {}
        }
      ]
    },
    {
      "cell_type": "code",
      "source": [
        "lasso_model = make_pipeline(RobustScaler(), \n",
        "                         LassoCV(alphas = [0.0004, 0.0005, 0.0006],\n",
        "                                 random_state = 0,\n",
        "                                 cv = 10))\n",
        "\n",
        "lasso_model.fit(X_train, y_train)\n",
        "\n",
        "y_train_pred = lasso_model.predict(X_train)\n",
        "MSE_train = np.mean((y_train_pred - y_train)**2)\n",
        "\n",
        "# print(\"Best alpha : {}\", lasso_model.alpha_)\n",
        "print(\"Mean Squared Error = {:.8f}\".format(MSE_train))\n",
        "print(\"RMSE score for LASSO: {:.3f}\".format(rmse(lasso_model)))"
      ],
      "metadata": {
        "colab": {
          "base_uri": "https://localhost:8080/"
        },
        "id": "pf1StA18A50g",
        "outputId": "633bf299-60fc-4f4e-cf3b-aa4f6763b419"
      },
      "execution_count": 57,
      "outputs": [
        {
          "output_type": "stream",
          "name": "stdout",
          "text": [
            "Mean Squared Error = 0.01197438\n"
          ]
        },
        {
          "output_type": "stream",
          "name": "stderr",
          "text": [
            "[Parallel(n_jobs=-1)]: Using backend LokyBackend with 2 concurrent workers.\n"
          ]
        },
        {
          "output_type": "stream",
          "name": "stdout",
          "text": [
            "RMSE score for LASSO: 0.135\n"
          ]
        },
        {
          "output_type": "stream",
          "name": "stderr",
          "text": [
            "[Parallel(n_jobs=-1)]: Done   5 out of   5 | elapsed:    1.9s finished\n"
          ]
        }
      ]
    },
    {
      "cell_type": "code",
      "source": [
        "plt.figure(figsize=(10,6))\n",
        "sns.scatterplot(y_train_pred, y_train)\n",
        "plt.title(\"Linear regression with Lasso regularization\")\n",
        "plt.xlabel(\"Predicted Prices\")\n",
        "plt.ylabel(\"Real  Prices\")\n",
        "plt.show"
      ],
      "metadata": {
        "colab": {
          "base_uri": "https://localhost:8080/",
          "height": 444
        },
        "id": "TtKrJ0rgA9-k",
        "outputId": "2c64fef6-8f31-44b2-995a-78a41a05f2b3"
      },
      "execution_count": 58,
      "outputs": [
        {
          "output_type": "execute_result",
          "data": {
            "text/plain": [
              "<function matplotlib.pyplot.show(*args, **kw)>"
            ]
          },
          "metadata": {},
          "execution_count": 58
        },
        {
          "output_type": "display_data",
          "data": {
            "text/plain": [
              "<Figure size 720x432 with 1 Axes>"
            ],
            "image/png": "[encoded data removed]"
          },
          "metadata": {}
        }
      ]
    },
    {
      "cell_type": "code",
      "source": [
        "gbr = GradientBoostingRegressor(random_state=0)\n",
        "param_grid = {'n_estimators': [2500],\n",
        "              'max_features': [13],\n",
        "              'max_depth': [5],\n",
        "              'learning_rate': [0.05],\n",
        "              'subsample': [0.8],\n",
        "             'random_state' : [5]}\n",
        "                              \n",
        "gb_model = GridSearchCV(estimator=gbr, param_grid=param_grid, n_jobs=1, cv=5)\n",
        "gb_model.fit(X_train, y_train)"
      ],
      "metadata": {
        "colab": {
          "base_uri": "https://localhost:8080/"
        },
        "id": "0-KvB95MBCB3",
        "outputId": "ec3cb6e8-83aa-4862-8f7c-2b7e143ec6aa"
      },
      "execution_count": 59,
      "outputs": [
        {
          "output_type": "execute_result",
          "data": {
            "text/plain": [
              "GridSearchCV(cv=5, estimator=GradientBoostingRegressor(random_state=0),\n",
              "             n_jobs=1,\n",
              "             param_grid={'learning_rate': [0.05], 'max_depth': [5],\n",
              "                         'max_features': [13], 'n_estimators': [2500],\n",
              "                         'random_state': [5], 'subsample': [0.8]})"
            ]
          },
          "metadata": {},
          "execution_count": 59
        }
      ]
    },
    {
      "cell_type": "code",
      "source": [
        "y_train_pred = gb_model.predict(X_train)\n",
        "MSE_train = np.mean((y_train_pred - y_train)**2)\n",
        "print('Best Parameters: {}'.format(gb_model.best_params_))\n",
        "print(\"Mean Squared Error = {:.8f}\".format(MSE_train))\n",
        "print(\"RMSE score for GB: {:.3f}\".format(rmse(gb_model)))"
      ],
      "metadata": {
        "colab": {
          "base_uri": "https://localhost:8080/"
        },
        "id": "IXQOPfGnBFIb",
        "outputId": "9b2e8d37-9378-4f6d-e8ed-e1cfc1347f78"
      },
      "execution_count": 60,
      "outputs": [
        {
          "output_type": "stream",
          "name": "stdout",
          "text": [
            "Best Parameters: {'learning_rate': 0.05, 'max_depth': 5, 'max_features': 13, 'n_estimators': 2500, 'random_state': 5, 'subsample': 0.8}\n",
            "Mean Squared Error = 0.00000900\n"
          ]
        },
        {
          "output_type": "stream",
          "name": "stderr",
          "text": [
            "[Parallel(n_jobs=-1)]: Using backend LokyBackend with 2 concurrent workers.\n"
          ]
        },
        {
          "output_type": "stream",
          "name": "stdout",
          "text": [
            "RMSE score for GB: 0.120\n"
          ]
        },
        {
          "output_type": "stream",
          "name": "stderr",
          "text": [
            "[Parallel(n_jobs=-1)]: Done   5 out of   5 | elapsed:   51.6s finished\n"
          ]
        }
      ]
    },
    {
      "cell_type": "code",
      "source": [
        "xgbreg = xgb.XGBRegressor(seed=0)\n",
        "param_grid2 = {'n_estimators': [2000], \n",
        "              'learning_rate': [0.05],\n",
        "              'max_depth': [3, 7],\n",
        "              'subsample': [0.8],\n",
        "              'colsample_bytree': [0.45, 0.75]}\n",
        "    \n",
        "xgb_model = GridSearchCV(estimator=xgbreg, param_grid=param_grid2, n_jobs=1, cv=10)\n",
        "xgb_model.fit(X_train, y_train)\n",
        "\n",
        "y_train_pred = xgb_model.predict(X_train)\n",
        "MSE_train = np.mean((y_train_pred - y_train)**2)\n",
        "\n",
        "print('\\n\\nBest Parameters: {}'.format(xgb_model.best_params_))\n",
        "print(\"Mean Squared Error = {:.8f}\".format(MSE_train))\n",
        "print(\"RMSE score for XGB: {:.3f}\".format(rmse(xgb_model)))"
      ],
      "metadata": {
        "colab": {
          "base_uri": "https://localhost:8080/"
        },
        "id": "ZF_jXVhOBIeg",
        "outputId": "afe02fea-4dfa-4aa6-8c04-13aaba8f9b87"
      },
      "execution_count": null,
      "outputs": [
        {
          "output_type": "stream",
          "name": "stdout",
          "text": [
            "[15:15:09] WARNING: /workspace/src/objective/regression_obj.cu:152: reg:linear is now deprecated in favor of reg:squarederror.\n",
            "[15:15:18] WARNING: /workspace/src/objective/regression_obj.cu:152: reg:linear is now deprecated in favor of reg:squarederror.\n",
            "[15:15:30] WARNING: /workspace/src/objective/regression_obj.cu:152: reg:linear is now deprecated in favor of reg:squarederror.\n",
            "[15:15:40] WARNING: /workspace/src/objective/regression_obj.cu:152: reg:linear is now deprecated in favor of reg:squarederror.\n",
            "[15:15:49] WARNING: /workspace/src/objective/regression_obj.cu:152: reg:linear is now deprecated in favor of reg:squarederror.\n",
            "[15:15:59] WARNING: /workspace/src/objective/regression_obj.cu:152: reg:linear is now deprecated in favor of reg:squarederror.\n",
            "[15:16:08] WARNING: /workspace/src/objective/regression_obj.cu:152: reg:linear is now deprecated in favor of reg:squarederror.\n",
            "[15:16:16] WARNING: /workspace/src/objective/regression_obj.cu:152: reg:linear is now deprecated in favor of reg:squarederror.\n",
            "[15:16:26] WARNING: /workspace/src/objective/regression_obj.cu:152: reg:linear is now deprecated in favor of reg:squarederror.\n",
            "[15:16:34] WARNING: /workspace/src/objective/regression_obj.cu:152: reg:linear is now deprecated in favor of reg:squarederror.\n",
            "[15:16:43] WARNING: /workspace/src/objective/regression_obj.cu:152: reg:linear is now deprecated in favor of reg:squarederror.\n",
            "[15:16:56] WARNING: /workspace/src/objective/regression_obj.cu:152: reg:linear is now deprecated in favor of reg:squarederror.\n",
            "[15:17:09] WARNING: /workspace/src/objective/regression_obj.cu:152: reg:linear is now deprecated in favor of reg:squarederror.\n",
            "[15:17:23] WARNING: /workspace/src/objective/regression_obj.cu:152: reg:linear is now deprecated in favor of reg:squarederror.\n",
            "[15:17:37] WARNING: /workspace/src/objective/regression_obj.cu:152: reg:linear is now deprecated in favor of reg:squarederror.\n",
            "[15:17:48] WARNING: /workspace/src/objective/regression_obj.cu:152: reg:linear is now deprecated in favor of reg:squarederror.\n",
            "[15:18:00] WARNING: /workspace/src/objective/regression_obj.cu:152: reg:linear is now deprecated in favor of reg:squarederror.\n",
            "[15:18:11] WARNING: /workspace/src/objective/regression_obj.cu:152: reg:linear is now deprecated in favor of reg:squarederror.\n",
            "[15:18:22] WARNING: /workspace/src/objective/regression_obj.cu:152: reg:linear is now deprecated in favor of reg:squarederror.\n",
            "[15:18:33] WARNING: /workspace/src/objective/regression_obj.cu:152: reg:linear is now deprecated in favor of reg:squarederror.\n",
            "[15:18:44] WARNING: /workspace/src/objective/regression_obj.cu:152: reg:linear is now deprecated in favor of reg:squarederror.\n",
            "[15:18:56] WARNING: /workspace/src/objective/regression_obj.cu:152: reg:linear is now deprecated in favor of reg:squarederror.\n"
          ]
        }
      ]
    },
    {
      "cell_type": "code",
      "source": [
        "en_model = ElasticNetCV(alphas = [0.0001, 0.0003, 0.0004, 0.0006], \n",
        "                        l1_ratio = [.9, .92], \n",
        "                        random_state = 0,\n",
        "                        cv=10)"
      ],
      "metadata": {
        "id": "mKyrxzMABLXy"
      },
      "execution_count": null,
      "outputs": []
    },
    {
      "cell_type": "code",
      "source": [
        "en_model.fit(X_train, y_train)\n",
        "\n",
        "y_train_pred = en_model.predict(X_train)\n",
        "MSE_train = np.mean((y_train_pred - y_train)**2)"
      ],
      "metadata": {
        "id": "AtDeZYDuBOw9"
      },
      "execution_count": null,
      "outputs": []
    },
    {
      "cell_type": "code",
      "source": [
        "print(\"Mean Squared Error = {:.8f}\".format(MSE_train))\n",
        "print(\"RMSE score for ElasticNet: {:.3f}\".format(rmse(en_model)))"
      ],
      "metadata": {
        "id": "_g4SUHl-BQ7T"
      },
      "execution_count": null,
      "outputs": []
    },
    {
      "cell_type": "code",
      "source": [
        "lgb_model = lgb.LGBMRegressor(objective='regression', num_leaves=5,\n",
        "                              learning_rate=0.05, n_estimators=800,\n",
        "                              max_bin = 55, bagging_fraction = 0.8,\n",
        "                              bagging_freq = 5, feature_fraction = 0.2,\n",
        "                              feature_fraction_seed=9, bagging_seed=9,\n",
        "                              min_data_in_leaf =6, min_sum_hessian_in_leaf = 11)\n",
        "\n",
        "lgb_model.fit(X_train, y_train)\n",
        "\n",
        "y_train_pred = lgb_model.predict(X_train)\n",
        "MSE_train = np.mean((y_train_pred - y_train)**2)\n",
        "\n",
        "print(\"Mean Squared Error = {:.8f}\".format(MSE_train))\n",
        "print(\"RMSE score for LGBMRegressor: {:.4f}\".format(rmse(lgb_model)))"
      ],
      "metadata": {
        "id": "El0QVLMqBTBx"
      },
      "execution_count": null,
      "outputs": []
    },
    {
      "cell_type": "code",
      "source": [
        "from sklearn.ensemble import BaggingRegressor\n",
        "\n",
        "model2 = sklearn.ensemble.BaggingRegressor(base_estimator = en_model, n_estimators = 50, \n",
        "                                           max_samples = 30, max_features = 200, verbose = 3, n_jobs = 3)\n",
        "model2.fit(X_train, y_train)\n",
        "\n",
        "y_train_pred = model2.predict(X_train)\n",
        "MSE_train = np.mean((y_train_pred - y_train)**2)\n",
        "\n",
        "print(\"Mean Squared Error = {:.8f}\".format(MSE_train))"
      ],
      "metadata": {
        "id": "LBC680wYBZPF"
      },
      "execution_count": null,
      "outputs": []
    },
    {
      "cell_type": "code",
      "source": [
        "print(\"RMSE score for BaggingRegressor: {:.4f}\".format(rmse(model2)))\n"
      ],
      "metadata": {
        "id": "6muZ0bx5BfIa"
      },
      "execution_count": null,
      "outputs": []
    },
    {
      "cell_type": "code",
      "source": [
        "from mlxtend.regressor import StackingCVRegressor\n",
        "from sklearn.pipeline import make_pipeline"
      ],
      "metadata": {
        "id": "leTGYOZjBg7S"
      },
      "execution_count": null,
      "outputs": []
    },
    {
      "cell_type": "code",
      "source": [
        "lasso_model = make_pipeline(RobustScaler(),\n",
        "                      LassoCV(max_iter=1e7, alphas = [0.0005],\n",
        "                              random_state = 42, cv=5))\n",
        "\n",
        "elasticnet_model = make_pipeline(RobustScaler(), \n",
        "                           ElasticNetCV(max_iter=1e7, alphas=[0.0005], \n",
        "                                        cv=5, l1_ratio=0.9))\n",
        "\n",
        "lgbm_model = make_pipeline(RobustScaler(),\n",
        "                        lgb.LGBMRegressor(objective='regression',num_leaves=5,\n",
        "                                      learning_rate=0.05, n_estimators=800,\n",
        "                                      max_bin = 55, bagging_fraction = 0.8,\n",
        "                                      bagging_freq = 5, feature_fraction = 0.23,\n",
        "                                      feature_fraction_seed = 9, bagging_seed=9,\n",
        "                                      min_data_in_leaf = 6, \n",
        "                                      min_sum_hessian_in_leaf = 11))\n",
        "\n",
        "xgboost_model = make_pipeline(RobustScaler(),\n",
        "                        xgb.XGBRegressor(learning_rate = 0.01, n_estimators=3400, \n",
        "                                     max_depth=3,min_child_weight=0 ,\n",
        "                                     gamma=0, subsample=0.7,\n",
        "                                     colsample_bytree=0.7,\n",
        "                                     objective= 'reg:linear',nthread=4,\n",
        "                                     scale_pos_weight=1,seed=27, \n",
        "                                     reg_alpha=0.00006))"
      ],
      "metadata": {
        "id": "QKklYDOgBjRq"
      },
      "execution_count": null,
      "outputs": []
    },
    {
      "cell_type": "code",
      "source": [
        "stack_regressor = StackingCVRegressor(regressors=(lasso_model, elasticnet_model, xgboost_model, lgbm_model), \n",
        "                               meta_regressor=xgboost_model, use_features_in_secondary=True)"
      ],
      "metadata": {
        "id": "Q7ZxHs9JBmIK"
      },
      "execution_count": null,
      "outputs": []
    },
    {
      "cell_type": "code",
      "source": [
        "stack_model = stack_regressor.fit(np.array(X_train),  np.array(y_train))\n"
      ],
      "metadata": {
        "id": "LKUAPb57Bo6g"
      },
      "execution_count": null,
      "outputs": []
    },
    {
      "cell_type": "code",
      "source": [
        "en_preds = en_model.predict(test_preprocessed)\n"
      ],
      "metadata": {
        "id": "yDPbtUlIBqty"
      },
      "execution_count": null,
      "outputs": []
    },
    {
      "cell_type": "code",
      "source": [
        "lasso_preds = lasso_model.predict(test_preprocessed)\n"
      ],
      "metadata": {
        "id": "8Qw_pCG2Bsca"
      },
      "execution_count": null,
      "outputs": []
    },
    {
      "cell_type": "code",
      "source": [
        "stack_gen_preds = stack_model.predict(test_preprocessed)\n"
      ],
      "metadata": {
        "id": "2JL-Z7QDBuF0"
      },
      "execution_count": null,
      "outputs": []
    },
    {
      "cell_type": "code",
      "source": [
        "lgbm_preds = lgb_model.predict(test_preprocessed)\n"
      ],
      "metadata": {
        "id": "fyh2Yyg3BwAl"
      },
      "execution_count": null,
      "outputs": []
    },
    {
      "cell_type": "code",
      "source": [
        "stack_preds = ((0.2*en_preds) + (0.25*lasso_preds) + (0.15*lgbm_preds) + (0.4*stack_gen_preds))\n"
      ],
      "metadata": {
        "id": "LjJDzx-UBxn7"
      },
      "execution_count": null,
      "outputs": []
    },
    {
      "cell_type": "code",
      "source": [
        "predictions_df = pd.DataFrame(np.expm1(stack_preds), \n",
        "                              index = test_preprocessed.index+1, \n",
        "                              columns=[\"SalePrice\"])\n",
        "predictions_df.index.name = \"Id\"\n",
        "predictions_df.head()"
      ],
      "metadata": {
        "id": "WIzBdSwBBzWM"
      },
      "execution_count": null,
      "outputs": []
    },
    {
      "cell_type": "code",
      "source": [
        "predictions_df[\"SalePrice\"].to_csv(\"my_predictions.csv\", header=True)\n"
      ],
      "metadata": {
        "id": "dM8FQKgkB187"
      },
      "execution_count": null,
      "outputs": []
    }
  ]
}